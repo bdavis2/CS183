{
  "nbformat": 4,
  "nbformat_minor": 0,
  "metadata": {
    "kernelspec": {
      "display_name": "Python 2",
      "language": "python",
      "name": "python2"
    },
    "language_info": {
      "codemirror_mode": {
        "name": "ipython",
        "version": 2
      },
      "file_extension": ".py",
      "mimetype": "text/x-python",
      "name": "python",
      "nbconvert_exporter": "python",
      "pygments_lexer": "ipython2",
      "version": "2.7.13"
    },
    "colab": {
      "name": "w8_word2vec.ipynb",
      "provenance": [],
      "include_colab_link": true
    }
  },
  "cells": [
    {
      "cell_type": "markdown",
      "metadata": {
        "id": "view-in-github",
        "colab_type": "text"
      },
      "source": [
        "<a href=\"https://colab.research.google.com/github/bdavis2/CS183/blob/master/w8_word2vec.ipynb\" target=\"_parent\"><img src=\"https://colab.research.google.com/assets/colab-badge.svg\" alt=\"Open In Colab\"/></a>"
      ]
    },
    {
      "cell_type": "code",
      "metadata": {
        "id": "CXWB4VmbkADa"
      },
      "source": [
        "import gensim\n",
        "from gensim.models import Word2Vec\n",
        "from sklearn.decomposition import PCA\n",
        "from matplotlib import pyplot"
      ],
      "execution_count": null,
      "outputs": []
    },
    {
      "cell_type": "code",
      "metadata": {
        "id": "0VkXiY5EkADd"
      },
      "source": [
        "# define training data\n",
        "sentences = [['this', 'is', 'the', 'first', 'sentence', 'for', 'word2vec'],\n",
        "            ['this', 'is', 'the', 'second', 'sentence'],\n",
        "            ['yet', 'another', 'sentence'],\n",
        "            ['one', 'more', 'sentence'],\n",
        "            ['and', 'the', 'final', 'sentence']]"
      ],
      "execution_count": null,
      "outputs": []
    },
    {
      "cell_type": "code",
      "metadata": {
        "id": "-MjvwM-ckADg",
        "colab": {
          "base_uri": "https://localhost:8080/",
          "height": 54
        },
        "outputId": "4d61f8c9-d4e0-4a3f-d6b6-13f0ccd87013"
      },
      "source": [
        "print sentences"
      ],
      "execution_count": null,
      "outputs": [
        {
          "output_type": "stream",
          "text": [
            "[['this', 'is', 'the', 'first', 'sentence', 'for', 'word2vec'], ['this', 'is', 'the', 'second', 'sentence'], ['yet', 'another', 'sentence'], ['one', 'more', 'sentence'], ['and', 'the', 'final', 'sentence']]\n"
          ],
          "name": "stdout"
        }
      ]
    },
    {
      "cell_type": "code",
      "metadata": {
        "id": "GbEStOL2kADj"
      },
      "source": [
        "# train model\n",
        "model = Word2Vec(sentences, min_count=1)"
      ],
      "execution_count": null,
      "outputs": []
    },
    {
      "cell_type": "code",
      "metadata": {
        "id": "Kej5C8VekADl",
        "colab": {
          "base_uri": "https://localhost:8080/",
          "height": 34
        },
        "outputId": "9d24f9d0-fdbf-408e-c01c-ba4d9aded621"
      },
      "source": [
        "# summarize the loaded model\n",
        "print(model)"
      ],
      "execution_count": null,
      "outputs": [
        {
          "output_type": "stream",
          "text": [
            "Word2Vec(vocab=14, size=100, alpha=0.025)\n"
          ],
          "name": "stdout"
        }
      ]
    },
    {
      "cell_type": "code",
      "metadata": {
        "id": "IYiSAWCOkADo",
        "colab": {
          "base_uri": "https://localhost:8080/",
          "height": 54
        },
        "outputId": "9b236256-c4ef-487e-86c4-4b899357c97e"
      },
      "source": [
        "# summarize vocabulary\n",
        "words = list(model.wv.vocab)\n",
        "print words"
      ],
      "execution_count": null,
      "outputs": [
        {
          "output_type": "stream",
          "text": [
            "['and', 'word2vec', 'for', 'sentence', 'this', 'is', 'one', 'second', 'another', 'the', 'first', 'yet', 'final', 'more']\n"
          ],
          "name": "stdout"
        }
      ]
    },
    {
      "cell_type": "code",
      "metadata": {
        "id": "Ez9URZY0kADq",
        "colab": {
          "base_uri": "https://localhost:8080/",
          "height": 490
        },
        "outputId": "bffcfcc7-c164-4a85-f80d-ef61ff4b51e1"
      },
      "source": [
        "# access vector for one word\n",
        "print(model['sentence'])"
      ],
      "execution_count": null,
      "outputs": [
        {
          "output_type": "stream",
          "text": [
            "[ 1.0910820e-03 -1.5077452e-03 -3.2069760e-03 -9.9484180e-04\n",
            "  3.1507821e-04  4.3721409e-03 -3.6966589e-03 -3.3398340e-03\n",
            " -4.5425897e-03  9.9963380e-04 -4.2361259e-03 -3.8322308e-03\n",
            "  4.3286034e-03 -3.2514911e-03  2.9569527e-03 -3.7188190e-03\n",
            " -1.0051982e-03  4.8464374e-03 -3.5323880e-03  1.2242071e-04\n",
            " -4.5874268e-03  3.7173247e-03 -4.1582971e-03 -3.9330549e-03\n",
            " -8.7048812e-04 -4.5904196e-03  3.7684049e-03 -3.9869444e-03\n",
            "  1.5684202e-03  4.3672328e-03  1.7569183e-03  1.4254355e-03\n",
            " -3.0226770e-03  1.5630876e-03  1.1366424e-03 -1.0663142e-03\n",
            "  4.9594906e-03  1.5107748e-03 -3.5520273e-03 -1.7370946e-03\n",
            " -4.4726627e-03 -3.6770348e-03  3.5596718e-03 -7.3829072e-04\n",
            "  7.4810127e-04  2.5676086e-03  8.0731243e-04 -2.7061251e-03\n",
            " -4.2320942e-03  3.4339249e-03  9.2918600e-04  4.3059429e-03\n",
            " -1.6868339e-03  2.3244848e-03 -3.9865668e-03  4.2214273e-03\n",
            "  3.0529061e-03  2.7524345e-03  4.3230103e-03 -3.9409990e-03\n",
            " -2.2007530e-03 -2.5688580e-03 -4.1240761e-03 -1.5698475e-03\n",
            " -3.0006173e-03 -3.1934893e-03  2.1189270e-03 -4.9184784e-03\n",
            " -2.9591753e-03 -2.7208854e-03 -3.6836134e-03  4.8212996e-03\n",
            " -3.2314796e-03  7.9252338e-04 -1.1393809e-03  4.1330149e-03\n",
            " -2.2852742e-03  1.1882690e-03  4.9270047e-03  1.0303492e-03\n",
            " -2.9270577e-03  2.5646228e-03  3.5660752e-04  3.5602620e-03\n",
            "  7.4526753e-05 -4.0080678e-04 -3.8333556e-03 -1.5198218e-03\n",
            " -1.2780972e-03 -3.4368543e-03 -3.1265458e-03  2.0513015e-03\n",
            " -4.0272819e-03 -3.5779302e-03 -1.9546321e-03 -1.0096101e-03\n",
            "  2.4777828e-03 -1.2672107e-03 -3.6294560e-03 -1.7686683e-03]\n"
          ],
          "name": "stdout"
        },
        {
          "output_type": "stream",
          "text": [
            "/usr/local/lib/python2.7/dist-packages/ipykernel_launcher.py:2: DeprecationWarning: Call to deprecated `__getitem__` (Method will be removed in 4.0.0, use self.wv.__getitem__() instead).\n",
            "  \n"
          ],
          "name": "stderr"
        }
      ]
    },
    {
      "cell_type": "code",
      "metadata": {
        "id": "Y4KSoCuukADt",
        "colab": {
          "base_uri": "https://localhost:8080/",
          "height": 70
        },
        "outputId": "32020f76-0c31-4974-ca2d-7c6984be9f73"
      },
      "source": [
        "# save model\n",
        "model.save('model.bin')"
      ],
      "execution_count": null,
      "outputs": [
        {
          "output_type": "stream",
          "text": [
            "/usr/local/lib/python2.7/dist-packages/smart_open/smart_open_lib.py:398: UserWarning: This function is deprecated, use smart_open.open instead. See the migration notes for details: https://github.com/RaRe-Technologies/smart_open/blob/master/README.rst#migrating-to-the-new-open-function\n",
            "  'See the migration notes for details: %s' % _MIGRATION_NOTES_URL\n"
          ],
          "name": "stderr"
        }
      ]
    },
    {
      "cell_type": "code",
      "metadata": {
        "id": "KL8wVmPskADw",
        "colab": {
          "base_uri": "https://localhost:8080/",
          "height": 34
        },
        "outputId": "b20a03cc-5b1c-4f86-c708-11f5d4a02ebf"
      },
      "source": [
        "# load model\n",
        "new_model = Word2Vec.load('model.bin')\n",
        "print(new_model)"
      ],
      "execution_count": null,
      "outputs": [
        {
          "output_type": "stream",
          "text": [
            "Word2Vec(vocab=14, size=100, alpha=0.025)\n"
          ],
          "name": "stdout"
        }
      ]
    },
    {
      "cell_type": "markdown",
      "metadata": {
        "id": "EAfORpR9kADy"
      },
      "source": [
        "#### Visualize the word embeddings"
      ]
    },
    {
      "cell_type": "code",
      "metadata": {
        "id": "XAzGq3RqkADz",
        "colab": {
          "base_uri": "https://localhost:8080/",
          "height": 70
        },
        "outputId": "fc5d18a6-d807-4c7a-e4ae-04d09f94df67"
      },
      "source": [
        "# We can retrieve all of the vectors from a trained model as follows:\n",
        "X = new_model[new_model.wv.vocab]"
      ],
      "execution_count": null,
      "outputs": [
        {
          "output_type": "stream",
          "text": [
            "/usr/local/lib/python2.7/dist-packages/ipykernel_launcher.py:2: DeprecationWarning: Call to deprecated `__getitem__` (Method will be removed in 4.0.0, use self.wv.__getitem__() instead).\n",
            "  \n"
          ],
          "name": "stderr"
        }
      ]
    },
    {
      "cell_type": "code",
      "metadata": {
        "id": "owy9FxbqkAD1",
        "colab": {
          "base_uri": "https://localhost:8080/",
          "height": 235
        },
        "outputId": "6f023471-e161-455d-a81e-a2132e2548d9"
      },
      "source": [
        "print X"
      ],
      "execution_count": null,
      "outputs": [
        {
          "output_type": "stream",
          "text": [
            "[[ 0.00014433  0.00243259  0.00120855 ...  0.00160275  0.00238136\n",
            "  -0.00142696]\n",
            " [ 0.00268545  0.00369039 -0.00151664 ...  0.00428423  0.00036392\n",
            "   0.00374638]\n",
            " [ 0.00253331 -0.00315945 -0.00052476 ... -0.00329089 -0.00386695\n",
            "   0.00076367]\n",
            " ...\n",
            " [-0.00303264 -0.00099994 -0.00298973 ...  0.00232601  0.00168298\n",
            "   0.00037159]\n",
            " [ 0.00125797  0.00258364  0.00374995 ... -0.00201355 -0.00047171\n",
            "  -0.00132005]\n",
            " [-0.00147712 -0.00348135  0.00070508 ...  0.00050689 -0.00411672\n",
            "  -0.00488935]]\n"
          ],
          "name": "stdout"
        }
      ]
    },
    {
      "cell_type": "markdown",
      "metadata": {
        "id": "hYVCvzFPkAD4"
      },
      "source": [
        "**Plot Word Vectors Using PCA**: We can create a 2-dimensional PCA model of the word vectors using the scikit-learn PCA class as follows."
      ]
    },
    {
      "cell_type": "code",
      "metadata": {
        "id": "vBBi-mtnkAD4"
      },
      "source": [
        "pca = PCA(n_components=2)\n",
        "result = pca.fit_transform(X)"
      ],
      "execution_count": null,
      "outputs": []
    },
    {
      "cell_type": "code",
      "metadata": {
        "id": "oYSGplgxkAD7",
        "colab": {
          "base_uri": "https://localhost:8080/",
          "height": 269
        },
        "outputId": "b8c11506-9e9a-4e44-d283-361e8fa4da06"
      },
      "source": [
        "# create a scatter plot of the projection\n",
        "pyplot.scatter(result[:, 0], result[:, 1])\n",
        "words = list(new_model.wv.vocab)\n",
        "for i, word in enumerate(words):\n",
        "    pyplot.annotate(word, xy=(result[i, 0], result[i, 1]))\n",
        "pyplot.show()"
      ],
      "execution_count": null,
      "outputs": [
        {
          "output_type": "display_data",
          "data": {
            "image/png": "[encoded data removed]",
            "text/plain": [
              "<Figure size 432x288 with 1 Axes>"
            ]
          },
          "metadata": {
            "tags": [],
            "needs_background": "light"
          }
        }
      ]
    },
    {
      "cell_type": "code",
      "metadata": {
        "id": "ZaqNBKA_kAD9"
      },
      "source": [
        ""
      ],
      "execution_count": null,
      "outputs": []
    }
  ]
}